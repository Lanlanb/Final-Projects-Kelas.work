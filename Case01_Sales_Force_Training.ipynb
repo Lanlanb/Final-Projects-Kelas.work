{
  "nbformat": 4,
  "nbformat_minor": 0,
  "metadata": {
    "colab": {
      "provenance": [],
      "include_colab_link": true
    },
    "kernelspec": {
      "name": "python3",
      "display_name": "Python 3"
    },
    "language_info": {
      "name": "python"
    }
  },
  "cells": [
    {
      "cell_type": "markdown",
      "metadata": {
        "id": "view-in-github",
        "colab_type": "text"
      },
      "source": [
        "<a href=\"https://colab.research.google.com/github/Lanlanb/Final-Projects-Kelas.work/blob/main/Case01_Sales_Force_Training.ipynb\" target=\"_parent\"><img src=\"https://colab.research.google.com/assets/colab-badge.svg\" alt=\"Open In Colab\"/></a>"
      ]
    },
    {
      "cell_type": "markdown",
      "source": [
        "# **Case Study 01: Sales Force Training**"
      ],
      "metadata": {
        "id": "Lx9hPGLz84jF"
      }
    },
    {
      "cell_type": "markdown",
      "source": [
        "**Overview dan Background Problems**\n",
        "\n",
        "Perusahaan X ingin meningkatkan penjualan mereka. Dari data penjualan sebelumnya menunjukkan bahwa penjualan rata-rata yaitu $100 per transaksi. Setelah melakukan training kepada pekerja sales, data penjualan terbaru (yang diambil dari 25 sampel pekerja sales) tersimpan dalam tabel data di bawah ini :"
      ],
      "metadata": {
        "id": "JcvQ_enQ8-yP"
      }
    },
    {
      "cell_type": "code",
      "source": [
        "df"
      ],
      "metadata": {
        "colab": {
          "base_uri": "https://localhost:8080/",
          "height": 833
        },
        "id": "9RiBP7uoAXxh",
        "outputId": "0acc920c-838f-48f7-ecf4-c0b866488f7b"
      },
      "execution_count": null,
      "outputs": [
        {
          "output_type": "execute_result",
          "data": {
            "text/plain": [
              "    TransactionAmount\n",
              "0                 100\n",
              "1                 150\n",
              "2                  50\n",
              "3                 100\n",
              "4                 130\n",
              "5                 120\n",
              "6                 100\n",
              "7                  85\n",
              "8                  70\n",
              "9                 150\n",
              "10                150\n",
              "11                120\n",
              "12                 50\n",
              "13                100\n",
              "14                100\n",
              "15                140\n",
              "16                 90\n",
              "17                150\n",
              "18                 50\n",
              "19                 90\n",
              "20                120\n",
              "21                100\n",
              "22                110\n",
              "23                 75\n",
              "24                 65"
            ],
            "text/html": [
              "\n",
              "  <div id=\"df-5a586b7e-8c62-4acd-a29e-1e9af3ca791f\" class=\"colab-df-container\">\n",
              "    <div>\n",
              "<style scoped>\n",
              "    .dataframe tbody tr th:only-of-type {\n",
              "        vertical-align: middle;\n",
              "    }\n",
              "\n",
              "    .dataframe tbody tr th {\n",
              "        vertical-align: top;\n",
              "    }\n",
              "\n",
              "    .dataframe thead th {\n",
              "        text-align: right;\n",
              "    }\n",
              "</style>\n",
              "<table border=\"1\" class=\"dataframe\">\n",
              "  <thead>\n",
              "    <tr style=\"text-align: right;\">\n",
              "      <th></th>\n",
              "      <th>TransactionAmount</th>\n",
              "    </tr>\n",
              "  </thead>\n",
              "  <tbody>\n",
              "    <tr>\n",
              "      <th>0</th>\n",
              "      <td>100</td>\n",
              "    </tr>\n",
              "    <tr>\n",
              "      <th>1</th>\n",
              "      <td>150</td>\n",
              "    </tr>\n",
              "    <tr>\n",
              "      <th>2</th>\n",
              "      <td>50</td>\n",
              "    </tr>\n",
              "    <tr>\n",
              "      <th>3</th>\n",
              "      <td>100</td>\n",
              "    </tr>\n",
              "    <tr>\n",
              "      <th>4</th>\n",
              "      <td>130</td>\n",
              "    </tr>\n",
              "    <tr>\n",
              "      <th>5</th>\n",
              "      <td>120</td>\n",
              "    </tr>\n",
              "    <tr>\n",
              "      <th>6</th>\n",
              "      <td>100</td>\n",
              "    </tr>\n",
              "    <tr>\n",
              "      <th>7</th>\n",
              "      <td>85</td>\n",
              "    </tr>\n",
              "    <tr>\n",
              "      <th>8</th>\n",
              "      <td>70</td>\n",
              "    </tr>\n",
              "    <tr>\n",
              "      <th>9</th>\n",
              "      <td>150</td>\n",
              "    </tr>\n",
              "    <tr>\n",
              "      <th>10</th>\n",
              "      <td>150</td>\n",
              "    </tr>\n",
              "    <tr>\n",
              "      <th>11</th>\n",
              "      <td>120</td>\n",
              "    </tr>\n",
              "    <tr>\n",
              "      <th>12</th>\n",
              "      <td>50</td>\n",
              "    </tr>\n",
              "    <tr>\n",
              "      <th>13</th>\n",
              "      <td>100</td>\n",
              "    </tr>\n",
              "    <tr>\n",
              "      <th>14</th>\n",
              "      <td>100</td>\n",
              "    </tr>\n",
              "    <tr>\n",
              "      <th>15</th>\n",
              "      <td>140</td>\n",
              "    </tr>\n",
              "    <tr>\n",
              "      <th>16</th>\n",
              "      <td>90</td>\n",
              "    </tr>\n",
              "    <tr>\n",
              "      <th>17</th>\n",
              "      <td>150</td>\n",
              "    </tr>\n",
              "    <tr>\n",
              "      <th>18</th>\n",
              "      <td>50</td>\n",
              "    </tr>\n",
              "    <tr>\n",
              "      <th>19</th>\n",
              "      <td>90</td>\n",
              "    </tr>\n",
              "    <tr>\n",
              "      <th>20</th>\n",
              "      <td>120</td>\n",
              "    </tr>\n",
              "    <tr>\n",
              "      <th>21</th>\n",
              "      <td>100</td>\n",
              "    </tr>\n",
              "    <tr>\n",
              "      <th>22</th>\n",
              "      <td>110</td>\n",
              "    </tr>\n",
              "    <tr>\n",
              "      <th>23</th>\n",
              "      <td>75</td>\n",
              "    </tr>\n",
              "    <tr>\n",
              "      <th>24</th>\n",
              "      <td>65</td>\n",
              "    </tr>\n",
              "  </tbody>\n",
              "</table>\n",
              "</div>\n",
              "    <div class=\"colab-df-buttons\">\n",
              "\n",
              "  <div class=\"colab-df-container\">\n",
              "    <button class=\"colab-df-convert\" onclick=\"convertToInteractive('df-5a586b7e-8c62-4acd-a29e-1e9af3ca791f')\"\n",
              "            title=\"Convert this dataframe to an interactive table.\"\n",
              "            style=\"display:none;\">\n",
              "\n",
              "  <svg xmlns=\"http://www.w3.org/2000/svg\" height=\"24px\" viewBox=\"0 -960 960 960\">\n",
              "    <path d=\"M120-120v-720h720v720H120Zm60-500h600v-160H180v160Zm220 220h160v-160H400v160Zm0 220h160v-160H400v160ZM180-400h160v-160H180v160Zm440 0h160v-160H620v160ZM180-180h160v-160H180v160Zm440 0h160v-160H620v160Z\"/>\n",
              "  </svg>\n",
              "    </button>\n",
              "\n",
              "  <style>\n",
              "    .colab-df-container {\n",
              "      display:flex;\n",
              "      gap: 12px;\n",
              "    }\n",
              "\n",
              "    .colab-df-convert {\n",
              "      background-color: #E8F0FE;\n",
              "      border: none;\n",
              "      border-radius: 50%;\n",
              "      cursor: pointer;\n",
              "      display: none;\n",
              "      fill: #1967D2;\n",
              "      height: 32px;\n",
              "      padding: 0 0 0 0;\n",
              "      width: 32px;\n",
              "    }\n",
              "\n",
              "    .colab-df-convert:hover {\n",
              "      background-color: #E2EBFA;\n",
              "      box-shadow: 0px 1px 2px rgba(60, 64, 67, 0.3), 0px 1px 3px 1px rgba(60, 64, 67, 0.15);\n",
              "      fill: #174EA6;\n",
              "    }\n",
              "\n",
              "    .colab-df-buttons div {\n",
              "      margin-bottom: 4px;\n",
              "    }\n",
              "\n",
              "    [theme=dark] .colab-df-convert {\n",
              "      background-color: #3B4455;\n",
              "      fill: #D2E3FC;\n",
              "    }\n",
              "\n",
              "    [theme=dark] .colab-df-convert:hover {\n",
              "      background-color: #434B5C;\n",
              "      box-shadow: 0px 1px 3px 1px rgba(0, 0, 0, 0.15);\n",
              "      filter: drop-shadow(0px 1px 2px rgba(0, 0, 0, 0.3));\n",
              "      fill: #FFFFFF;\n",
              "    }\n",
              "  </style>\n",
              "\n",
              "    <script>\n",
              "      const buttonEl =\n",
              "        document.querySelector('#df-5a586b7e-8c62-4acd-a29e-1e9af3ca791f button.colab-df-convert');\n",
              "      buttonEl.style.display =\n",
              "        google.colab.kernel.accessAllowed ? 'block' : 'none';\n",
              "\n",
              "      async function convertToInteractive(key) {\n",
              "        const element = document.querySelector('#df-5a586b7e-8c62-4acd-a29e-1e9af3ca791f');\n",
              "        const dataTable =\n",
              "          await google.colab.kernel.invokeFunction('convertToInteractive',\n",
              "                                                    [key], {});\n",
              "        if (!dataTable) return;\n",
              "\n",
              "        const docLinkHtml = 'Like what you see? Visit the ' +\n",
              "          '<a target=\"_blank\" href=https://colab.research.google.com/notebooks/data_table.ipynb>data table notebook</a>'\n",
              "          + ' to learn more about interactive tables.';\n",
              "        element.innerHTML = '';\n",
              "        dataTable['output_type'] = 'display_data';\n",
              "        await google.colab.output.renderOutput(dataTable, element);\n",
              "        const docLink = document.createElement('div');\n",
              "        docLink.innerHTML = docLinkHtml;\n",
              "        element.appendChild(docLink);\n",
              "      }\n",
              "    </script>\n",
              "  </div>\n",
              "\n",
              "\n",
              "<div id=\"df-87f2df45-1237-4bc8-b7d6-84263849b4de\">\n",
              "  <button class=\"colab-df-quickchart\" onclick=\"quickchart('df-87f2df45-1237-4bc8-b7d6-84263849b4de')\"\n",
              "            title=\"Suggest charts\"\n",
              "            style=\"display:none;\">\n",
              "\n",
              "<svg xmlns=\"http://www.w3.org/2000/svg\" height=\"24px\"viewBox=\"0 0 24 24\"\n",
              "     width=\"24px\">\n",
              "    <g>\n",
              "        <path d=\"M19 3H5c-1.1 0-2 .9-2 2v14c0 1.1.9 2 2 2h14c1.1 0 2-.9 2-2V5c0-1.1-.9-2-2-2zM9 17H7v-7h2v7zm4 0h-2V7h2v10zm4 0h-2v-4h2v4z\"/>\n",
              "    </g>\n",
              "</svg>\n",
              "  </button>\n",
              "\n",
              "<style>\n",
              "  .colab-df-quickchart {\n",
              "      --bg-color: #E8F0FE;\n",
              "      --fill-color: #1967D2;\n",
              "      --hover-bg-color: #E2EBFA;\n",
              "      --hover-fill-color: #174EA6;\n",
              "      --disabled-fill-color: #AAA;\n",
              "      --disabled-bg-color: #DDD;\n",
              "  }\n",
              "\n",
              "  [theme=dark] .colab-df-quickchart {\n",
              "      --bg-color: #3B4455;\n",
              "      --fill-color: #D2E3FC;\n",
              "      --hover-bg-color: #434B5C;\n",
              "      --hover-fill-color: #FFFFFF;\n",
              "      --disabled-bg-color: #3B4455;\n",
              "      --disabled-fill-color: #666;\n",
              "  }\n",
              "\n",
              "  .colab-df-quickchart {\n",
              "    background-color: var(--bg-color);\n",
              "    border: none;\n",
              "    border-radius: 50%;\n",
              "    cursor: pointer;\n",
              "    display: none;\n",
              "    fill: var(--fill-color);\n",
              "    height: 32px;\n",
              "    padding: 0;\n",
              "    width: 32px;\n",
              "  }\n",
              "\n",
              "  .colab-df-quickchart:hover {\n",
              "    background-color: var(--hover-bg-color);\n",
              "    box-shadow: 0 1px 2px rgba(60, 64, 67, 0.3), 0 1px 3px 1px rgba(60, 64, 67, 0.15);\n",
              "    fill: var(--button-hover-fill-color);\n",
              "  }\n",
              "\n",
              "  .colab-df-quickchart-complete:disabled,\n",
              "  .colab-df-quickchart-complete:disabled:hover {\n",
              "    background-color: var(--disabled-bg-color);\n",
              "    fill: var(--disabled-fill-color);\n",
              "    box-shadow: none;\n",
              "  }\n",
              "\n",
              "  .colab-df-spinner {\n",
              "    border: 2px solid var(--fill-color);\n",
              "    border-color: transparent;\n",
              "    border-bottom-color: var(--fill-color);\n",
              "    animation:\n",
              "      spin 1s steps(1) infinite;\n",
              "  }\n",
              "\n",
              "  @keyframes spin {\n",
              "    0% {\n",
              "      border-color: transparent;\n",
              "      border-bottom-color: var(--fill-color);\n",
              "      border-left-color: var(--fill-color);\n",
              "    }\n",
              "    20% {\n",
              "      border-color: transparent;\n",
              "      border-left-color: var(--fill-color);\n",
              "      border-top-color: var(--fill-color);\n",
              "    }\n",
              "    30% {\n",
              "      border-color: transparent;\n",
              "      border-left-color: var(--fill-color);\n",
              "      border-top-color: var(--fill-color);\n",
              "      border-right-color: var(--fill-color);\n",
              "    }\n",
              "    40% {\n",
              "      border-color: transparent;\n",
              "      border-right-color: var(--fill-color);\n",
              "      border-top-color: var(--fill-color);\n",
              "    }\n",
              "    60% {\n",
              "      border-color: transparent;\n",
              "      border-right-color: var(--fill-color);\n",
              "    }\n",
              "    80% {\n",
              "      border-color: transparent;\n",
              "      border-right-color: var(--fill-color);\n",
              "      border-bottom-color: var(--fill-color);\n",
              "    }\n",
              "    90% {\n",
              "      border-color: transparent;\n",
              "      border-bottom-color: var(--fill-color);\n",
              "    }\n",
              "  }\n",
              "</style>\n",
              "\n",
              "  <script>\n",
              "    async function quickchart(key) {\n",
              "      const quickchartButtonEl =\n",
              "        document.querySelector('#' + key + ' button');\n",
              "      quickchartButtonEl.disabled = true;  // To prevent multiple clicks.\n",
              "      quickchartButtonEl.classList.add('colab-df-spinner');\n",
              "      try {\n",
              "        const charts = await google.colab.kernel.invokeFunction(\n",
              "            'suggestCharts', [key], {});\n",
              "      } catch (error) {\n",
              "        console.error('Error during call to suggestCharts:', error);\n",
              "      }\n",
              "      quickchartButtonEl.classList.remove('colab-df-spinner');\n",
              "      quickchartButtonEl.classList.add('colab-df-quickchart-complete');\n",
              "    }\n",
              "    (() => {\n",
              "      let quickchartButtonEl =\n",
              "        document.querySelector('#df-87f2df45-1237-4bc8-b7d6-84263849b4de button');\n",
              "      quickchartButtonEl.style.display =\n",
              "        google.colab.kernel.accessAllowed ? 'block' : 'none';\n",
              "    })();\n",
              "  </script>\n",
              "</div>\n",
              "\n",
              "  <div id=\"id_c8fee3d1-8d80-47b7-94e8-69df1048dea9\">\n",
              "    <style>\n",
              "      .colab-df-generate {\n",
              "        background-color: #E8F0FE;\n",
              "        border: none;\n",
              "        border-radius: 50%;\n",
              "        cursor: pointer;\n",
              "        display: none;\n",
              "        fill: #1967D2;\n",
              "        height: 32px;\n",
              "        padding: 0 0 0 0;\n",
              "        width: 32px;\n",
              "      }\n",
              "\n",
              "      .colab-df-generate:hover {\n",
              "        background-color: #E2EBFA;\n",
              "        box-shadow: 0px 1px 2px rgba(60, 64, 67, 0.3), 0px 1px 3px 1px rgba(60, 64, 67, 0.15);\n",
              "        fill: #174EA6;\n",
              "      }\n",
              "\n",
              "      [theme=dark] .colab-df-generate {\n",
              "        background-color: #3B4455;\n",
              "        fill: #D2E3FC;\n",
              "      }\n",
              "\n",
              "      [theme=dark] .colab-df-generate:hover {\n",
              "        background-color: #434B5C;\n",
              "        box-shadow: 0px 1px 3px 1px rgba(0, 0, 0, 0.15);\n",
              "        filter: drop-shadow(0px 1px 2px rgba(0, 0, 0, 0.3));\n",
              "        fill: #FFFFFF;\n",
              "      }\n",
              "    </style>\n",
              "    <button class=\"colab-df-generate\" onclick=\"generateWithVariable('df')\"\n",
              "            title=\"Generate code using this dataframe.\"\n",
              "            style=\"display:none;\">\n",
              "\n",
              "  <svg xmlns=\"http://www.w3.org/2000/svg\" height=\"24px\"viewBox=\"0 0 24 24\"\n",
              "       width=\"24px\">\n",
              "    <path d=\"M7,19H8.4L18.45,9,17,7.55,7,17.6ZM5,21V16.75L18.45,3.32a2,2,0,0,1,2.83,0l1.4,1.43a1.91,1.91,0,0,1,.58,1.4,1.91,1.91,0,0,1-.58,1.4L9.25,21ZM18.45,9,17,7.55Zm-12,3A5.31,5.31,0,0,0,4.9,8.1,5.31,5.31,0,0,0,1,6.5,5.31,5.31,0,0,0,4.9,4.9,5.31,5.31,0,0,0,6.5,1,5.31,5.31,0,0,0,8.1,4.9,5.31,5.31,0,0,0,12,6.5,5.46,5.46,0,0,0,6.5,12Z\"/>\n",
              "  </svg>\n",
              "    </button>\n",
              "    <script>\n",
              "      (() => {\n",
              "      const buttonEl =\n",
              "        document.querySelector('#id_c8fee3d1-8d80-47b7-94e8-69df1048dea9 button.colab-df-generate');\n",
              "      buttonEl.style.display =\n",
              "        google.colab.kernel.accessAllowed ? 'block' : 'none';\n",
              "\n",
              "      buttonEl.onclick = () => {\n",
              "        google.colab.notebook.generateWithVariable('df');\n",
              "      }\n",
              "      })();\n",
              "    </script>\n",
              "  </div>\n",
              "\n",
              "    </div>\n",
              "  </div>\n"
            ],
            "application/vnd.google.colaboratory.intrinsic+json": {
              "type": "dataframe",
              "variable_name": "df",
              "summary": "{\n  \"name\": \"df\",\n  \"rows\": 25,\n  \"fields\": [\n    {\n      \"column\": \"TransactionAmount\",\n      \"properties\": {\n        \"dtype\": \"number\",\n        \"std\": 31,\n        \"min\": 50,\n        \"max\": 150,\n        \"num_unique_values\": 12,\n        \"samples\": [\n          75,\n          110,\n          100\n        ],\n        \"semantic_type\": \"\",\n        \"description\": \"\"\n      }\n    }\n  ]\n}"
            }
          },
          "metadata": {},
          "execution_count": 6
        }
      ]
    },
    {
      "cell_type": "markdown",
      "source": [
        "Tujuan:\n",
        "1. Mengaplikasikan analisis dari uji statistika untuk menentukan apakah kita harus menolak atau menerima hipotesis nol (H₀) berdasarkan hasil uji.\n",
        "2. Menilai apakah pelatihan sales force memiliki dampak signifikan terhadap rata-rata penjualan."
      ],
      "metadata": {
        "id": "i7Lw_qS49_vk"
      }
    },
    {
      "cell_type": "markdown",
      "source": [
        "## Preparation"
      ],
      "metadata": {
        "id": "VmVaChIemcN3"
      }
    },
    {
      "cell_type": "code",
      "execution_count": null,
      "metadata": {
        "id": "T-sR7gHTliMw"
      },
      "outputs": [],
      "source": [
        "# Import library dan package\n",
        "import pandas as pd\n",
        "import numpy as np\n",
        "import scipy.stats as stats\n",
        "import statistics"
      ]
    },
    {
      "cell_type": "code",
      "source": [
        "# membuat dataframe\n",
        "df = pd.DataFrame({'TransactionAmount' : [100, 150, 50, 100, 130, 120, 100, 85, 70, 150, 150, 120, 50, 100, 100, 140, 90, 150, 50, 90, 120, 100, 110, 75, 65]})\n",
        "\n",
        "# melihat random data dari dataframe\n",
        "df.sample(5)"
      ],
      "metadata": {
        "id": "7cIFeGhLOJsH",
        "colab": {
          "base_uri": "https://localhost:8080/",
          "height": 206
        },
        "outputId": "7aee0112-95a1-4ff8-d6ca-7908b18a3401"
      },
      "execution_count": null,
      "outputs": [
        {
          "output_type": "execute_result",
          "data": {
            "text/plain": [
              "    TransactionAmount\n",
              "9                 150\n",
              "4                 130\n",
              "22                110\n",
              "24                 65\n",
              "5                 120"
            ],
            "text/html": [
              "\n",
              "  <div id=\"df-4a395601-8ee8-4498-8e8f-447e4e109db9\" class=\"colab-df-container\">\n",
              "    <div>\n",
              "<style scoped>\n",
              "    .dataframe tbody tr th:only-of-type {\n",
              "        vertical-align: middle;\n",
              "    }\n",
              "\n",
              "    .dataframe tbody tr th {\n",
              "        vertical-align: top;\n",
              "    }\n",
              "\n",
              "    .dataframe thead th {\n",
              "        text-align: right;\n",
              "    }\n",
              "</style>\n",
              "<table border=\"1\" class=\"dataframe\">\n",
              "  <thead>\n",
              "    <tr style=\"text-align: right;\">\n",
              "      <th></th>\n",
              "      <th>TransactionAmount</th>\n",
              "    </tr>\n",
              "  </thead>\n",
              "  <tbody>\n",
              "    <tr>\n",
              "      <th>9</th>\n",
              "      <td>150</td>\n",
              "    </tr>\n",
              "    <tr>\n",
              "      <th>4</th>\n",
              "      <td>130</td>\n",
              "    </tr>\n",
              "    <tr>\n",
              "      <th>22</th>\n",
              "      <td>110</td>\n",
              "    </tr>\n",
              "    <tr>\n",
              "      <th>24</th>\n",
              "      <td>65</td>\n",
              "    </tr>\n",
              "    <tr>\n",
              "      <th>5</th>\n",
              "      <td>120</td>\n",
              "    </tr>\n",
              "  </tbody>\n",
              "</table>\n",
              "</div>\n",
              "    <div class=\"colab-df-buttons\">\n",
              "\n",
              "  <div class=\"colab-df-container\">\n",
              "    <button class=\"colab-df-convert\" onclick=\"convertToInteractive('df-4a395601-8ee8-4498-8e8f-447e4e109db9')\"\n",
              "            title=\"Convert this dataframe to an interactive table.\"\n",
              "            style=\"display:none;\">\n",
              "\n",
              "  <svg xmlns=\"http://www.w3.org/2000/svg\" height=\"24px\" viewBox=\"0 -960 960 960\">\n",
              "    <path d=\"M120-120v-720h720v720H120Zm60-500h600v-160H180v160Zm220 220h160v-160H400v160Zm0 220h160v-160H400v160ZM180-400h160v-160H180v160Zm440 0h160v-160H620v160ZM180-180h160v-160H180v160Zm440 0h160v-160H620v160Z\"/>\n",
              "  </svg>\n",
              "    </button>\n",
              "\n",
              "  <style>\n",
              "    .colab-df-container {\n",
              "      display:flex;\n",
              "      gap: 12px;\n",
              "    }\n",
              "\n",
              "    .colab-df-convert {\n",
              "      background-color: #E8F0FE;\n",
              "      border: none;\n",
              "      border-radius: 50%;\n",
              "      cursor: pointer;\n",
              "      display: none;\n",
              "      fill: #1967D2;\n",
              "      height: 32px;\n",
              "      padding: 0 0 0 0;\n",
              "      width: 32px;\n",
              "    }\n",
              "\n",
              "    .colab-df-convert:hover {\n",
              "      background-color: #E2EBFA;\n",
              "      box-shadow: 0px 1px 2px rgba(60, 64, 67, 0.3), 0px 1px 3px 1px rgba(60, 64, 67, 0.15);\n",
              "      fill: #174EA6;\n",
              "    }\n",
              "\n",
              "    .colab-df-buttons div {\n",
              "      margin-bottom: 4px;\n",
              "    }\n",
              "\n",
              "    [theme=dark] .colab-df-convert {\n",
              "      background-color: #3B4455;\n",
              "      fill: #D2E3FC;\n",
              "    }\n",
              "\n",
              "    [theme=dark] .colab-df-convert:hover {\n",
              "      background-color: #434B5C;\n",
              "      box-shadow: 0px 1px 3px 1px rgba(0, 0, 0, 0.15);\n",
              "      filter: drop-shadow(0px 1px 2px rgba(0, 0, 0, 0.3));\n",
              "      fill: #FFFFFF;\n",
              "    }\n",
              "  </style>\n",
              "\n",
              "    <script>\n",
              "      const buttonEl =\n",
              "        document.querySelector('#df-4a395601-8ee8-4498-8e8f-447e4e109db9 button.colab-df-convert');\n",
              "      buttonEl.style.display =\n",
              "        google.colab.kernel.accessAllowed ? 'block' : 'none';\n",
              "\n",
              "      async function convertToInteractive(key) {\n",
              "        const element = document.querySelector('#df-4a395601-8ee8-4498-8e8f-447e4e109db9');\n",
              "        const dataTable =\n",
              "          await google.colab.kernel.invokeFunction('convertToInteractive',\n",
              "                                                    [key], {});\n",
              "        if (!dataTable) return;\n",
              "\n",
              "        const docLinkHtml = 'Like what you see? Visit the ' +\n",
              "          '<a target=\"_blank\" href=https://colab.research.google.com/notebooks/data_table.ipynb>data table notebook</a>'\n",
              "          + ' to learn more about interactive tables.';\n",
              "        element.innerHTML = '';\n",
              "        dataTable['output_type'] = 'display_data';\n",
              "        await google.colab.output.renderOutput(dataTable, element);\n",
              "        const docLink = document.createElement('div');\n",
              "        docLink.innerHTML = docLinkHtml;\n",
              "        element.appendChild(docLink);\n",
              "      }\n",
              "    </script>\n",
              "  </div>\n",
              "\n",
              "\n",
              "<div id=\"df-6738b02e-d9d6-41c0-a4a4-d67c9e6032f0\">\n",
              "  <button class=\"colab-df-quickchart\" onclick=\"quickchart('df-6738b02e-d9d6-41c0-a4a4-d67c9e6032f0')\"\n",
              "            title=\"Suggest charts\"\n",
              "            style=\"display:none;\">\n",
              "\n",
              "<svg xmlns=\"http://www.w3.org/2000/svg\" height=\"24px\"viewBox=\"0 0 24 24\"\n",
              "     width=\"24px\">\n",
              "    <g>\n",
              "        <path d=\"M19 3H5c-1.1 0-2 .9-2 2v14c0 1.1.9 2 2 2h14c1.1 0 2-.9 2-2V5c0-1.1-.9-2-2-2zM9 17H7v-7h2v7zm4 0h-2V7h2v10zm4 0h-2v-4h2v4z\"/>\n",
              "    </g>\n",
              "</svg>\n",
              "  </button>\n",
              "\n",
              "<style>\n",
              "  .colab-df-quickchart {\n",
              "      --bg-color: #E8F0FE;\n",
              "      --fill-color: #1967D2;\n",
              "      --hover-bg-color: #E2EBFA;\n",
              "      --hover-fill-color: #174EA6;\n",
              "      --disabled-fill-color: #AAA;\n",
              "      --disabled-bg-color: #DDD;\n",
              "  }\n",
              "\n",
              "  [theme=dark] .colab-df-quickchart {\n",
              "      --bg-color: #3B4455;\n",
              "      --fill-color: #D2E3FC;\n",
              "      --hover-bg-color: #434B5C;\n",
              "      --hover-fill-color: #FFFFFF;\n",
              "      --disabled-bg-color: #3B4455;\n",
              "      --disabled-fill-color: #666;\n",
              "  }\n",
              "\n",
              "  .colab-df-quickchart {\n",
              "    background-color: var(--bg-color);\n",
              "    border: none;\n",
              "    border-radius: 50%;\n",
              "    cursor: pointer;\n",
              "    display: none;\n",
              "    fill: var(--fill-color);\n",
              "    height: 32px;\n",
              "    padding: 0;\n",
              "    width: 32px;\n",
              "  }\n",
              "\n",
              "  .colab-df-quickchart:hover {\n",
              "    background-color: var(--hover-bg-color);\n",
              "    box-shadow: 0 1px 2px rgba(60, 64, 67, 0.3), 0 1px 3px 1px rgba(60, 64, 67, 0.15);\n",
              "    fill: var(--button-hover-fill-color);\n",
              "  }\n",
              "\n",
              "  .colab-df-quickchart-complete:disabled,\n",
              "  .colab-df-quickchart-complete:disabled:hover {\n",
              "    background-color: var(--disabled-bg-color);\n",
              "    fill: var(--disabled-fill-color);\n",
              "    box-shadow: none;\n",
              "  }\n",
              "\n",
              "  .colab-df-spinner {\n",
              "    border: 2px solid var(--fill-color);\n",
              "    border-color: transparent;\n",
              "    border-bottom-color: var(--fill-color);\n",
              "    animation:\n",
              "      spin 1s steps(1) infinite;\n",
              "  }\n",
              "\n",
              "  @keyframes spin {\n",
              "    0% {\n",
              "      border-color: transparent;\n",
              "      border-bottom-color: var(--fill-color);\n",
              "      border-left-color: var(--fill-color);\n",
              "    }\n",
              "    20% {\n",
              "      border-color: transparent;\n",
              "      border-left-color: var(--fill-color);\n",
              "      border-top-color: var(--fill-color);\n",
              "    }\n",
              "    30% {\n",
              "      border-color: transparent;\n",
              "      border-left-color: var(--fill-color);\n",
              "      border-top-color: var(--fill-color);\n",
              "      border-right-color: var(--fill-color);\n",
              "    }\n",
              "    40% {\n",
              "      border-color: transparent;\n",
              "      border-right-color: var(--fill-color);\n",
              "      border-top-color: var(--fill-color);\n",
              "    }\n",
              "    60% {\n",
              "      border-color: transparent;\n",
              "      border-right-color: var(--fill-color);\n",
              "    }\n",
              "    80% {\n",
              "      border-color: transparent;\n",
              "      border-right-color: var(--fill-color);\n",
              "      border-bottom-color: var(--fill-color);\n",
              "    }\n",
              "    90% {\n",
              "      border-color: transparent;\n",
              "      border-bottom-color: var(--fill-color);\n",
              "    }\n",
              "  }\n",
              "</style>\n",
              "\n",
              "  <script>\n",
              "    async function quickchart(key) {\n",
              "      const quickchartButtonEl =\n",
              "        document.querySelector('#' + key + ' button');\n",
              "      quickchartButtonEl.disabled = true;  // To prevent multiple clicks.\n",
              "      quickchartButtonEl.classList.add('colab-df-spinner');\n",
              "      try {\n",
              "        const charts = await google.colab.kernel.invokeFunction(\n",
              "            'suggestCharts', [key], {});\n",
              "      } catch (error) {\n",
              "        console.error('Error during call to suggestCharts:', error);\n",
              "      }\n",
              "      quickchartButtonEl.classList.remove('colab-df-spinner');\n",
              "      quickchartButtonEl.classList.add('colab-df-quickchart-complete');\n",
              "    }\n",
              "    (() => {\n",
              "      let quickchartButtonEl =\n",
              "        document.querySelector('#df-6738b02e-d9d6-41c0-a4a4-d67c9e6032f0 button');\n",
              "      quickchartButtonEl.style.display =\n",
              "        google.colab.kernel.accessAllowed ? 'block' : 'none';\n",
              "    })();\n",
              "  </script>\n",
              "</div>\n",
              "\n",
              "    </div>\n",
              "  </div>\n"
            ],
            "application/vnd.google.colaboratory.intrinsic+json": {
              "type": "dataframe",
              "summary": "{\n  \"name\": \"df\",\n  \"rows\": 5,\n  \"fields\": [\n    {\n      \"column\": \"TransactionAmount\",\n      \"properties\": {\n        \"dtype\": \"number\",\n        \"std\": 31,\n        \"min\": 65,\n        \"max\": 150,\n        \"num_unique_values\": 5,\n        \"samples\": [\n          130,\n          120,\n          110\n        ],\n        \"semantic_type\": \"\",\n        \"description\": \"\"\n      }\n    }\n  ]\n}"
            }
          },
          "metadata": {},
          "execution_count": 14
        }
      ]
    },
    {
      "cell_type": "code",
      "source": [
        "# menyimpan sampel data ke google drive\n",
        "file_path = '/content/drive/My Drive/Final Project Bootcamp Kelas.work by Kelas.com/case01_sales_training.csv'\n",
        "df.to_csv(file_path, index=False)"
      ],
      "metadata": {
        "id": "0-4pdhivD-Ds"
      },
      "execution_count": null,
      "outputs": []
    },
    {
      "cell_type": "code",
      "source": [
        "# mengakses google drive\n",
        "from google.colab import drive\n",
        "drive.mount('/content/drive')"
      ],
      "metadata": {
        "id": "GolJgambDUSz",
        "colab": {
          "base_uri": "https://localhost:8080/"
        },
        "outputId": "c9794bce-046d-4ff1-e48e-47dd3589872e"
      },
      "execution_count": null,
      "outputs": [
        {
          "output_type": "stream",
          "name": "stdout",
          "text": [
            "Mounted at /content/drive\n"
          ]
        }
      ]
    },
    {
      "cell_type": "markdown",
      "source": [
        "## Uji Statistika"
      ],
      "metadata": {
        "id": "DNc3_3P-_OXH"
      }
    },
    {
      "cell_type": "markdown",
      "source": [
        "Ketika kita menangani data, baik dalam jumlah kecil maupun besar, kita umumnya menggunakan dua jenis analisis utama untuk memahaminya: Descriptive Statistics dan Inferential Statistics. Meskipun memiliki tujuan yang berbeda, keduanya saling melengkapi.\n",
        "\n",
        "Langkah pertama adalah menggunakan descriptive statistics untuk memberikan gambaran ringkas tentang data yang ada. Setelah itu, inferential statistics digunakan untuk menarik kesimpulan atau melakukan pengujian guna mengetahui apakah temuan dari data tersebut berlaku untuk konteks yang lebih luas. Dalam kasus ini, kita ingin mengevaluasi apakah program pelatihan sales berhasil meningkatkan penjualan di perusahaan X, maka kita akan menerapkan kedua jenis analisis ini."
      ],
      "metadata": {
        "id": "w69AQrdaIFLB"
      }
    },
    {
      "cell_type": "markdown",
      "source": [
        "### Descriptive Statistics"
      ],
      "metadata": {
        "id": "GcbrGbQwQAyp"
      }
    },
    {
      "cell_type": "markdown",
      "source": [
        "#### Measure of central tendency"
      ],
      "metadata": {
        "id": "Flcva_sZGhWO"
      }
    },
    {
      "cell_type": "code",
      "source": [
        "# measure of central tendency\n",
        "\n",
        "mean_after = statistics.mean(df['TransactionAmount'])\n",
        "percentage_increase = ((mean_after - pop_mean) / pop_mean) * 100\n",
        "\n",
        "print(f\"mean before training: {pop_mean}\")\n",
        "print(f\"mean after training: {mean_after}\")\n",
        "print(f\"percentage increase: {round(percentage_increase, 2)}%\")\n",
        "print(f\"median: {statistics.mode(df['TransactionAmount'])}\")\n",
        "print(f\"modus: {statistics.mode(df['TransactionAmount'])}\")"
      ],
      "metadata": {
        "id": "TEgglF9_GjP8",
        "colab": {
          "base_uri": "https://localhost:8080/"
        },
        "outputId": "dcc9dd48-8556-44a2-f33f-13d0688e65b3"
      },
      "execution_count": null,
      "outputs": [
        {
          "output_type": "stream",
          "name": "stdout",
          "text": [
            "mean before training: 100\n",
            "mean after training: 102.6\n",
            "percentage increase: 2.6%\n",
            "median: 100\n",
            "modus: 100\n"
          ]
        }
      ]
    },
    {
      "cell_type": "markdown",
      "source": [
        "\n",
        "Analisa :\n",
        "1. Rata-rata setelah pelatihan naik menjadi 102.6, tetapi peningkatan ini sangat kecil (sekitar 2.6% dari rata-rata sebelumnya). Meski tampaknya pelatihan berkontribusi pada peningkatan penjualan, perbedaannya tidak cukup signifikan untuk menarik kesimpulan yang tegas tanpa uji statistik lebih lanjut.\n",
        "2. Median yang sama dengan nilai rata-rata sebelum pelatihan menunjukkan bahwa distribusi data cukup seimbang di sekitar nilai 100. Ini berarti tidak ada banyak outlier yang menarik rata-rata jauh dari nilai tengah data, yang juga diindikasikan oleh modus (di bawah).\n",
        "3.Modus yang sama dengan median dan mendekati rata-rata memperkuat indikasi bahwa distribusi data mendekati simetris, tanpa adanya konsentrasi nilai yang terlalu ekstrem."
      ],
      "metadata": {
        "id": "HyFaRgmzY1V0"
      }
    },
    {
      "cell_type": "markdown",
      "source": [
        "#### measure of variability"
      ],
      "metadata": {
        "id": "E8-CImZVOB3j"
      }
    },
    {
      "cell_type": "code",
      "source": [
        "print(f\"nilai maximum: {np.max(df['TransactionAmount'])}\")\n",
        "print(f\"nilai minimum: {np.min(df['TransactionAmount'])}\")\n",
        "print(f\"range: {np.max(df['TransactionAmount']) - np.min(df['TransactionAmount'])}\")\n",
        "\n",
        "print(f\"variance: {round(np.var(df['TransactionAmount']),2)}\")\n",
        "print(f\"standard deviation: {round(np.std(df['TransactionAmount']),2)}\")\n",
        "print(f\"quartile 1: {np.quantile(df['TransactionAmount'], 0.25)}\")\n",
        "print(f\"quartile 2: {np.quantile(df['TransactionAmount'], 0.50)}\")\n",
        "print(f\"quartile 3: {np.quantile(df['TransactionAmount'], 0.75)}\")"
      ],
      "metadata": {
        "colab": {
          "base_uri": "https://localhost:8080/"
        },
        "id": "EfMqJoZrzwUL",
        "outputId": "8fd37c95-a505-4006-d98c-090e8aedb2f6"
      },
      "execution_count": null,
      "outputs": [
        {
          "output_type": "stream",
          "name": "stdout",
          "text": [
            "nilai maximum: 150\n",
            "nilai minimum: 50\n",
            "range: 100\n",
            "variance: 972.24\n",
            "standard deviation: 31.18\n",
            "quartile 1: 85.0\n",
            "quartile 2: 100.0\n",
            "quartile 3: 120.0\n"
          ]
        }
      ]
    },
    {
      "cell_type": "markdown",
      "source": [
        "Analisa :\n",
        "1. Range yang besar menunjukkan adanya variasi yang signifikan dalam data penjualan, dari transaksi yang sangat rendah hingga yang sangat tinggi.\n",
        "2. Standar deviasi yang relatif tinggi (31.18) menunjukkan bahwa penjualan sangat bervariasi. Ini mengindikasikan ketidakkonsistenan dalam performa sales force, meskipun rata-rata adalah $102.6.\n",
        "3. Data menunjukkan bahwa sebagian besar penjualan berkumpul di sekitar nilai 100, tetapi ada data yang lebih tinggi menuju 150, yang mengindikasikan variabilitas dalam data, seperti yang terlihat dari standar deviasi yang besar.\n",
        "4. Sebagian besar data (75%) berada di bawah nilai 120, menunjukkan bahwa nilai di atas 120 adalah outlier yang tidak biasa."
      ],
      "metadata": {
        "id": "Z1xZIp1qSup9"
      }
    },
    {
      "cell_type": "markdown",
      "source": [
        "### Inferential Statistics"
      ],
      "metadata": {
        "id": "lQZTUJ8pQDLl"
      }
    },
    {
      "cell_type": "markdown",
      "source": [
        "#### Hypothesis Testing"
      ],
      "metadata": {
        "id": "eeA5GeUm-ajd"
      }
    },
    {
      "cell_type": "code",
      "source": [
        "# mengidentifikasi H0 dan H1\n",
        "\n",
        "# H0 = Penjualan rata-rata setelah training = $100\n",
        "# H1 = Penjualan rata-rata setelah pelatihan > $100"
      ],
      "metadata": {
        "id": "Ui7LMh1788Kb"
      },
      "execution_count": null,
      "outputs": []
    },
    {
      "cell_type": "code",
      "source": [
        "# memilih confidence level sebesar 95%\n",
        "confiden_level = 95/100\n",
        "\n",
        "print(\"confidence level: \", confiden_level)"
      ],
      "metadata": {
        "colab": {
          "base_uri": "https://localhost:8080/"
        },
        "id": "eIQzaqozJIWC",
        "outputId": "71595997-14bc-477d-c61a-f9c9048fae68"
      },
      "execution_count": null,
      "outputs": [
        {
          "output_type": "stream",
          "name": "stdout",
          "text": [
            "confidence level:  0.95\n"
          ]
        }
      ]
    },
    {
      "cell_type": "code",
      "source": [
        "# mengidentifikasi alpha (significance level)\n",
        "alpha = 1 - confiden_level\n",
        "\n",
        "print(f\"alpha: {round(alpha, 2)}\")"
      ],
      "metadata": {
        "colab": {
          "base_uri": "https://localhost:8080/"
        },
        "id": "IWxew9ZUPloq",
        "outputId": "f0255b2f-e180-480d-8d7b-6e1b3ccf3577"
      },
      "execution_count": null,
      "outputs": [
        {
          "output_type": "stream",
          "name": "stdout",
          "text": [
            "alpha: 0.05\n"
          ]
        }
      ]
    },
    {
      "cell_type": "code",
      "source": [
        "# mencari nilai test statistics (t-test) dan p-value\n",
        "t_test, p_value = stats.ttest_1samp(df['TransactionAmount'], pop_mean)\n",
        "t_round = round(t_test, 2)\n",
        "p_round = round(p_value, 2)\n",
        "\n",
        "# menampilkan hasil t-test dan p-value\n",
        "print(f\"t-test: {t_test} to {t_round}\")\n",
        "print(f\"p-value: {p_value} to {p_round}\")"
      ],
      "metadata": {
        "colab": {
          "base_uri": "https://localhost:8080/"
        },
        "id": "UUoUnRH_STZu",
        "outputId": "510f4ca7-86fe-4508-e9b1-4ca7a52148de"
      },
      "execution_count": null,
      "outputs": [
        {
          "output_type": "stream",
          "name": "stdout",
          "text": [
            "t-test: 0.4085001556802841 to 0.41\n",
            "p-value: 0.6865284813438117 to 0.69\n"
          ]
        }
      ]
    },
    {
      "cell_type": "code",
      "source": [
        "# menentukan degree of freedom\n",
        "data = len(df['TransactionAmount'])\n",
        "dof = data - 1\n",
        "print(f\"degree of freedom: {dof}\")"
      ],
      "metadata": {
        "id": "OS_v4nUYXmFT",
        "colab": {
          "base_uri": "https://localhost:8080/"
        },
        "outputId": "ae54e59f-4d48-47c0-8245-da87b099ba96"
      },
      "execution_count": null,
      "outputs": [
        {
          "output_type": "stream",
          "name": "stdout",
          "text": [
            "degree of freedom: 24\n"
          ]
        }
      ]
    },
    {
      "cell_type": "code",
      "source": [
        "# mencari critical value\n",
        "critical_value = round(stats.t.ppf(1-alpha, dof), 2)\n",
        "\n",
        "print(f\"critical value: {critical_value}\")"
      ],
      "metadata": {
        "colab": {
          "base_uri": "https://localhost:8080/"
        },
        "id": "kjk4QNTa6oe_",
        "outputId": "dbc32c67-5475-40b7-b9cf-8ddb49bb9b37"
      },
      "execution_count": null,
      "outputs": [
        {
          "output_type": "stream",
          "name": "stdout",
          "text": [
            "critical value: 1.71\n"
          ]
        }
      ]
    },
    {
      "cell_type": "markdown",
      "source": [
        "#### Kesimpulan"
      ],
      "metadata": {
        "id": "QMGQG_8JGhpX"
      }
    },
    {
      "cell_type": "markdown",
      "source": [
        "##### membandingkan test statistics (t-test) dengan critical region"
      ],
      "metadata": {
        "id": "Dc8VDdRflgLv"
      }
    },
    {
      "cell_type": "code",
      "source": [
        "print(f\"t-test: {t_round}\")\n",
        "print(f\"critical value: {critical_value}\")"
      ],
      "metadata": {
        "colab": {
          "base_uri": "https://localhost:8080/"
        },
        "id": "hVMVyg_TZDuJ",
        "outputId": "595d7804-5749-40a5-e5d1-38f8031ac8a1"
      },
      "execution_count": null,
      "outputs": [
        {
          "output_type": "stream",
          "name": "stdout",
          "text": [
            "t-test: 0.41\n",
            "critical value: 1.71\n"
          ]
        }
      ]
    },
    {
      "cell_type": "code",
      "source": [
        "# berdasarkan aturan yang ada:\n",
        "# jika tstatistics > critical value (dalam critical region) = menolak H0\n",
        "# sementara itu, t-statistics < critical value (critical region: 0.41 < 1.71)\n",
        "# conclusion: gagal menolak H0"
      ],
      "metadata": {
        "id": "CcAXH-QKgph-"
      },
      "execution_count": null,
      "outputs": []
    },
    {
      "cell_type": "markdown",
      "source": [
        "##### membandingkan p-value dengan significance level (alpha)"
      ],
      "metadata": {
        "id": "zmqalYWUINw4"
      }
    },
    {
      "cell_type": "code",
      "source": [
        "print(\"p-value: \", p_value)\n",
        "print(\"significance level (a): \", alpha)"
      ],
      "metadata": {
        "colab": {
          "base_uri": "https://localhost:8080/"
        },
        "id": "R9hhogrmHH-U",
        "outputId": "92e4bcc4-19de-48b0-c52b-1eb44eec328b"
      },
      "execution_count": null,
      "outputs": [
        {
          "output_type": "stream",
          "name": "stdout",
          "text": [
            "p-value:  0.6865284813438117\n",
            "significance level (a):  0.050000000000000044\n"
          ]
        }
      ]
    },
    {
      "cell_type": "code",
      "source": [
        "# Berdasarkan ketentuan yang ada:\n",
        "# jika p-value <= significance level (alpha), maka H0 ditolak\n",
        "# sementara itu, p-value > significance level (alpha) ---- Probabilitas mendapatkan hasil yang sama ekstremnya atau lebih ekstrem jika hipotesis nol benar.\n",
        "# conclusion: gagal menolak H0"
      ],
      "metadata": {
        "id": "j2e-CqGdhnl5"
      },
      "execution_count": null,
      "outputs": []
    },
    {
      "cell_type": "code",
      "source": [
        "# mengidentifikasi H0 dan H1\n",
        "\n",
        "# H0 = Penjualan rata-rata setelah training = $100\n",
        "# H1 = Penjualan rata-rata setelah pelatihan > $100"
      ],
      "metadata": {
        "id": "PT8_ynLlFVjs"
      },
      "execution_count": null,
      "outputs": []
    },
    {
      "cell_type": "code",
      "source": [
        "# kesimpulan uji statistics:\n",
        "# hasil perbandingan test statistic < critical value, berada di luar critical region.\n",
        "# hasil perbandingan p-value > alpha.\n",
        "# gagal menolak H0, yang berarti tidak ada cukup bukti untuk menyatakan bahwa training tersebut meningkatkan penjualan secara signifikan."
      ],
      "metadata": {
        "id": "GWRsOSejkP3j"
      },
      "execution_count": null,
      "outputs": []
    }
  ]
}